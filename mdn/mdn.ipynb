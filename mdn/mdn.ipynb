{
 "cells": [
  {
   "cell_type": "code",
   "execution_count": 2,
   "id": "73b2dc1e-1d4c-4d9f-9373-e4939e2b6a08",
   "metadata": {},
   "outputs": [
    {
     "data": {
      "text/plain": [
       "'/Users/yidong/Google Drive/Projects/WKM/mdn'"
      ]
     },
     "execution_count": 2,
     "metadata": {},
     "output_type": "execute_result"
    }
   ],
   "source": [
    "import os\n",
    "os.getcwd()\n",
    "# os.chdir('/Users/yidong/Google Drive/Projects/WKM/mdn')"
   ]
  },
  {
   "cell_type": "code",
   "execution_count": 4,
   "id": "c084b87b-8216-4d0e-9d12-edec38d69321",
   "metadata": {},
   "outputs": [],
   "source": [
    "from __future__ import absolute_import, division, print_function\n",
    "\n",
    "import argparse\n",
    "import json\n",
    "import os\n",
    "import random\n",
    "from collections import OrderedDict\n",
    "\n",
    "import numpy as np\n",
    "import torch\n",
    "import torch.optim as optim\n",
    "from my_data import get_mimic_dataloader, get_mimic_seq_dataloader\n",
    "from metrics import (BinomialLogLikelihoodMeter, BrierScoreMeter, CIndexMeter,\n",
    "                     IPWCIndexMeter, ConcordanceMeter, IPWConcordanceMeter,\n",
    "                     QuantileConcordanceMeter)\n",
    "from mdn_models import MDNModel\n",
    "from six.moves import cPickle as pickle\n",
    "from trainers import MDNTrainer\n",
    "from utils import SEP"
   ]
  },
  {
   "cell_type": "code",
   "execution_count": 5,
   "id": "7fbdd42d-447b-48fa-9a12-5bc85c4304ab",
   "metadata": {},
   "outputs": [
    {
     "data": {
      "text/plain": [
       "_StoreAction(option_strings=['--seed'], dest='seed', nargs=None, const=None, default=-1, type=<class 'int'>, choices=None, required=False, help=None, metavar=None)"
      ]
     },
     "execution_count": 5,
     "metadata": {},
     "output_type": "execute_result"
    }
   ],
   "source": [
    "parser = argparse.ArgumentParser(description='Main.')\n",
    "parser.add_argument(\"--dataset\", default=\"support\")\n",
    "parser.add_argument(\"--path\", default=\"./data/support/\")\n",
    "parser.add_argument(\"--verbose\", type=int, default=2)\n",
    "parser.add_argument(\"--debug\", action=\"store_true\")\n",
    "parser.add_argument(\"--device\", default=\"cuda\")\n",
    "parser.add_argument(\"--fine_tune\", action=\"store_true\")\n",
    "parser.add_argument(\"--evaluate\", action=\"store_true\")\n",
    "parser.add_argument(\"--seed\", type=int, default=-1)"
   ]
  },
  {
   "cell_type": "code",
   "execution_count": 6,
   "id": "6547d045-4e87-4c8a-bf22-43532828903c",
   "metadata": {},
   "outputs": [
    {
     "name": "stderr",
     "output_type": "stream",
     "text": [
      "usage: ipykernel_launcher.py [-h] [--dataset DATASET] [--path PATH]\n",
      "                             [--verbose VERBOSE] [--debug] [--device DEVICE]\n",
      "                             [--fine_tune] [--evaluate] [--seed SEED]\n",
      "                             [--split SPLIT]\n",
      "                             [--model_config_file MODEL_CONFIG_FILE]\n",
      "                             [--train_config_file TRAIN_CONFIG_FILE]\n",
      "                             [--num_epochs NUM_EPOCHS] [--patience PATIENCE]\n",
      "                             [--log_interval LOG_INTERVAL]\n",
      "                             [--result_path RESULT_PATH] [--save_model]\n",
      "                             [--model_path MODEL_PATH] [--save_log]\n",
      "                             [--log_path LOG_PATH] [--save_raw]\n",
      "ipykernel_launcher.py: error: unrecognized arguments: -f /Users/yidong/Library/Jupyter/runtime/kernel-e93d9a73-6317-4677-a9eb-dce9459abcc3.json\n"
     ]
    },
    {
     "ename": "SystemExit",
     "evalue": "2",
     "output_type": "error",
     "traceback": [
      "An exception has occurred, use %tb to see the full traceback.\n",
      "\u001b[0;31mSystemExit\u001b[0m\u001b[0;31m:\u001b[0m 2\n"
     ]
    },
    {
     "name": "stderr",
     "output_type": "stream",
     "text": [
      "/opt/anaconda3/lib/python3.11/site-packages/IPython/core/interactiveshell.py:3561: UserWarning: To exit: use 'exit', 'quit', or Ctrl-D.\n",
      "  warn(\"To exit: use 'exit', 'quit', or Ctrl-D.\", stacklevel=1)\n"
     ]
    }
   ],
   "source": [
    "# Dataset configuration\n",
    "parser.add_argument(\"--split\", type=int, default=1)\n",
    "\n",
    "# Model configuration.\n",
    "parser.add_argument(\n",
    "    \"--model_config_file\",\n",
    "    default=\"./configs/support__rec_mlp__0__model.json\",\n",
    "    help=\"Suggested format: Dataset_name__model_type__trial_id__model.json\")\n",
    "\n",
    "# Training configuration.\n",
    "parser.add_argument(\n",
    "    \"--train_config_file\",\n",
    "    default=\"./configs/support__rec_mlp__0__train.json\",\n",
    "    help=\"Suggested format: Dataset_name__model_type__trial_id__train.json\")\n",
    "\n",
    "# Other configuration\n",
    "parser.add_argument(\"--num_epochs\", type=int, default=100)\n",
    "parser.add_argument(\"--patience\", type=int, default=10)\n",
    "parser.add_argument(\"--log_interval\", type=int, default=500)\n",
    "parser.add_argument(\"--result_path\", default=None)\n",
    "parser.add_argument(\"--save_model\", action=\"store_true\")\n",
    "parser.add_argument(\"--model_path\", default=None)\n",
    "parser.add_argument(\"--save_log\", action=\"store_true\")\n",
    "parser.add_argument(\"--log_path\", default=None)\n",
    "parser.add_argument(\"--save_raw\", action=\"store_true\")\n",
    "\n",
    "args = parser.parse_args()"
   ]
  },
  {
   "cell_type": "code",
   "execution_count": null,
   "id": "64b44a9b-acdb-4662-ae66-14de23323eff",
   "metadata": {},
   "outputs": [],
   "source": []
  }
 ],
 "metadata": {
  "kernelspec": {
   "display_name": "Python 3 (ipykernel)",
   "language": "python",
   "name": "python3"
  },
  "language_info": {
   "codemirror_mode": {
    "name": "ipython",
    "version": 3
   },
   "file_extension": ".py",
   "mimetype": "text/x-python",
   "name": "python",
   "nbconvert_exporter": "python",
   "pygments_lexer": "ipython3",
   "version": "3.11.7"
  }
 },
 "nbformat": 4,
 "nbformat_minor": 5
}
