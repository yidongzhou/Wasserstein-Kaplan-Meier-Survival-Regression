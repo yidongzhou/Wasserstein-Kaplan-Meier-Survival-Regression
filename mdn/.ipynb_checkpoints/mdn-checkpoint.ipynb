{
 "cells": [
  {
   "cell_type": "code",
   "execution_count": 2,
   "id": "73b2dc1e-1d4c-4d9f-9373-e4939e2b6a08",
   "metadata": {},
   "outputs": [
    {
     "data": {
      "text/plain": [
       "'/Users/yidong/Google Drive/Projects/WKM/mdn'"
      ]
     },
     "execution_count": 2,
     "metadata": {},
     "output_type": "execute_result"
    }
   ],
   "source": [
    "import os\n",
    "os.getcwd()\n",
    "# os.chdir('/Users/yidong/Google Drive/Projects/WKM/mdn')"
   ]
  },
  {
   "cell_type": "code",
   "execution_count": 3,
   "id": "c084b87b-8216-4d0e-9d12-edec38d69321",
   "metadata": {},
   "outputs": [
    {
     "data": {
      "text/plain": [
       "_StoreAction(option_strings=['--seed'], dest='seed', nargs=None, const=None, default=-1, type=<class 'int'>, choices=None, required=False, help=None, metavar=None)"
      ]
     },
     "execution_count": 3,
     "metadata": {},
     "output_type": "execute_result"
    }
   ],
   "source": [
    "from __future__ import absolute_import, division, print_function\n",
    "\n",
    "import argparse\n",
    "import json\n",
    "import os\n",
    "import random\n",
    "from collections import OrderedDict\n",
    "\n",
    "import numpy as np\n",
    "import torch\n",
    "import torch.optim as optim\n",
    "from my_data import get_mimic_dataloader, get_mimic_seq_dataloader\n",
    "from metrics import (BinomialLogLikelihoodMeter, BrierScoreMeter, CIndexMeter,\n",
    "                     IPWCIndexMeter, ConcordanceMeter, IPWConcordanceMeter,\n",
    "                     QuantileConcordanceMeter)\n",
    "from mdn_models import MDNModel\n",
    "from six.moves import cPickle as pickle\n",
    "from trainers import MDNTrainer\n",
    "from utils import SEP\n",
    "\n",
    "parser = argparse.ArgumentParser(description='Main.')\n",
    "parser.add_argument(\"--dataset\", default=\"support\")\n",
    "parser.add_argument(\"--path\", default=\"./data/support/\")\n",
    "parser.add_argument(\"--verbose\", type=int, default=2)\n",
    "parser.add_argument(\"--debug\", action=\"store_true\")\n",
    "parser.add_argument(\"--device\", default=\"cuda\")\n",
    "parser.add_argument(\"--fine_tune\", action=\"store_true\")\n",
    "parser.add_argument(\"--evaluate\", action=\"store_true\")\n",
    "parser.add_argument(\"--seed\", type=int, default=-1)"
   ]
  },
  {
   "cell_type": "code",
   "execution_count": null,
   "id": "7fbdd42d-447b-48fa-9a12-5bc85c4304ab",
   "metadata": {},
   "outputs": [],
   "source": []
  }
 ],
 "metadata": {
  "kernelspec": {
   "display_name": "Python 3 (ipykernel)",
   "language": "python",
   "name": "python3"
  },
  "language_info": {
   "codemirror_mode": {
    "name": "ipython",
    "version": 3
   },
   "file_extension": ".py",
   "mimetype": "text/x-python",
   "name": "python",
   "nbconvert_exporter": "python",
   "pygments_lexer": "ipython3",
   "version": "3.11.7"
  }
 },
 "nbformat": 4,
 "nbformat_minor": 5
}
